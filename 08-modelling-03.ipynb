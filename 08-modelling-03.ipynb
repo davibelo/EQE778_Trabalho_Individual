{
 "cells": [
  {
   "cell_type": "code",
   "execution_count": 1,
   "metadata": {},
   "outputs": [
    {
     "data": {
      "text/plain": [
       "'\\nMODELLING - RANDOM FOREST\\n'"
      ]
     },
     "execution_count": 1,
     "metadata": {},
     "output_type": "execute_result"
    }
   ],
   "source": [
    "'''\n",
    "MODELLING - RANDOM FOREST\n",
    "'''"
   ]
  },
  {
   "cell_type": "code",
   "execution_count": 2,
   "metadata": {},
   "outputs": [
    {
     "name": "stderr",
     "output_type": "stream",
     "text": [
      "c:\\Users\\davib\\Downloads\\EQE778_Trabalho_Individual\\.venv\\Lib\\site-packages\\tqdm\\auto.py:21: TqdmWarning: IProgress not found. Please update jupyter and ipywidgets. See https://ipywidgets.readthedocs.io/en/stable/user_install.html\n",
      "  from .autonotebook import tqdm as notebook_tqdm\n"
     ]
    }
   ],
   "source": [
    "import os\n",
    "import itertools\n",
    "import optuna\n",
    "import joblib\n",
    "import numpy as np\n",
    "import seaborn as sns\n",
    "import matplotlib.pyplot as plt\n",
    "\n",
    "from sklearn.model_selection import train_test_split\n",
    "from sklearn.preprocessing import StandardScaler\n",
    "from sklearn.ensemble import RandomForestRegressor\n",
    "\n",
    "import sklearn.model_selection\n",
    "import sklearn.metrics"
   ]
  },
  {
   "cell_type": "code",
   "execution_count": 3,
   "metadata": {},
   "outputs": [],
   "source": [
    "# Model identification\n",
    "MODEL_ID = '03'\n",
    "\n",
    "# Specify the folder to export the figures\n",
    "FIGURES_FOLDER = 'figures'\n",
    "\n",
    "# Specify data and output folders\n",
    "INPUT_FOLDER = 'input_files'\n",
    "OUTPUT_FOLDER = 'output_files'"
   ]
  },
  {
   "cell_type": "code",
   "execution_count": 4,
   "metadata": {},
   "outputs": [
    {
     "name": "stdout",
     "output_type": "stream",
     "text": [
      "x scaled shape: (897254, 5)\n",
      "y scaled shape: (897254, 1)\n"
     ]
    }
   ],
   "source": [
    "# Import x and y dataframes\n",
    "df_scaled_x = joblib.load(os.path.join(INPUT_FOLDER, 'df_scaled_x.joblib'))\n",
    "df_scaled_y = joblib.load(os.path.join(INPUT_FOLDER, 'df_scaled_y.joblib'))\n",
    "\n",
    "df_scaled_y = df_scaled_y.drop(columns=['H2S_ppm'])\n",
    "\n",
    "x_scaled = df_scaled_x.values\n",
    "y_scaled = df_scaled_y.values\n",
    "\n",
    "print(f\"x scaled shape: {x_scaled.shape}\")\n",
    "print(f\"y scaled shape: {y_scaled.shape}\")"
   ]
  },
  {
   "cell_type": "code",
   "execution_count": 5,
   "metadata": {},
   "outputs": [
    {
     "name": "stdout",
     "output_type": "stream",
     "text": [
      "(807528, 5)\n",
      "(89726, 5)\n",
      "(807528, 1)\n",
      "(89726, 1)\n"
     ]
    }
   ],
   "source": [
    "# separando os dados entre treinamento e teste\n",
    "train_data, test_data, train_output, test_output = train_test_split(x_scaled, y_scaled, test_size=0.10, random_state=42, shuffle=True)\n",
    "print(train_data.shape)\n",
    "print(test_data.shape)\n",
    "print(train_output.shape)\n",
    "print(test_output.shape)"
   ]
  },
  {
   "cell_type": "code",
   "execution_count": null,
   "metadata": {},
   "outputs": [
    {
     "name": "stderr",
     "output_type": "stream",
     "text": [
      "[I 2024-12-02 11:35:34,949] A new study created in memory with name: no-name-c07b19f9-75a4-4eb2-8345-ba661272aae8\n"
     ]
    },
    {
     "name": "stdout",
     "output_type": "stream",
     "text": [
      "Nº Iterações Otimização: 40\n"
     ]
    },
    {
     "name": "stderr",
     "output_type": "stream",
     "text": [
      "  0%|          | 0/40 [00:00<?, ?it/s]c:\\Users\\davib\\Downloads\\EQE778_Trabalho_Individual\\.venv\\Lib\\site-packages\\optuna\\distributions.py:704: UserWarning: The distribution is specified by [1, 300] and step=10, but the range is not divisible by `step`. It will be replaced by [1, 291].\n",
      "  warnings.warn(\n",
      "Best trial: 0. Best value: 0.272578:   2%|▎         | 1/40 [01:41<1:06:09, 101.77s/it]c:\\Users\\davib\\Downloads\\EQE778_Trabalho_Individual\\.venv\\Lib\\site-packages\\optuna\\distributions.py:704: UserWarning: The distribution is specified by [1, 300] and step=10, but the range is not divisible by `step`. It will be replaced by [1, 291].\n",
      "  warnings.warn(\n"
     ]
    }
   ],
   "source": [
    "# Otimização de Hiperparâmetros\n",
    "def objetivo_rc(trial):\n",
    "    # Hiperparâmetros de busca para RF\n",
    "    rf_min_samples_leaf = trial.suggest_int(\"rf_min_samples_leaf\", 1, 10)\n",
    "    rf_min_samples_split = trial.suggest_int(\"min_samples_split\", 2, 10)\n",
    "    rf_max_depth = trial.suggest_int(\"rf_max_depth\", 5, 50)\n",
    "    rf_n_estimators = trial.suggest_int(\"rf_n_estimators\", 1, 300, step=10)\n",
    "\n",
    "    # Criação do modelo RF\n",
    "    m = sklearn.ensemble.RandomForestRegressor(\n",
    "        min_samples_leaf = rf_min_samples_leaf,\n",
    "        min_samples_split = rf_min_samples_split,\n",
    "        max_depth = rf_max_depth,         \n",
    "        n_estimators = rf_n_estimators)\n",
    "\n",
    "    # Retornando R² de validação, 20% dos dados de treino\n",
    "    train__data, val_data, train__output, val_output = sklearn.model_selection.train_test_split(train_data, train_output, test_size=0.2, random_state=101) \n",
    "    \n",
    "    # Converter train__output para vetor unidimensional\n",
    "    train__output = train__output.ravel()\n",
    "\n",
    "    m.fit(train__data, train__output)\n",
    "    predictions_optimization = m.predict(val_data)\n",
    "    r2 = sklearn.metrics.r2_score(val_output, predictions_optimization)\n",
    "\n",
    "    #r2 = sklearn.metrics.mean_absolute_error(val_output, predictions_optimization) # se for usar Mean Absolute Error\n",
    "    #r2 = sklearn.metrics.mean_squared_error(val_output, predictions_optimization) # se for usar Mean Squared Error\n",
    "    #r2 = np.sqrt(sklearn.metrics.mean_squared_error(val_output, predictions_optimization)) se for usar Root Mean Squared Error\n",
    "\n",
    "    # Salvando o modelo treinado\n",
    "    joblib.dump(m, f'{OUTPUT_FOLDER}/model_{MODEL_ID}_temp_{str(trial.number)}.joblib')\n",
    "\n",
    "    return r2\n",
    "\n",
    "# Resultados função objetivo\n",
    "study_rc = optuna.create_study(direction=\"maximize\")\n",
    "n_trials = 40\n",
    "print(\"Nº Iterações Otimização:\", n_trials)\n",
    "optuna.logging.set_verbosity(optuna.logging.WARNING)\n",
    "study_rc.optimize(objetivo_rc, n_trials=n_trials, show_progress_bar=True)\n",
    "print(\"Hiperparâmetros Otimizados:\", study_rc.best_params)\n",
    "print(\"Melhor trial:\", study_rc.best_trial.number)"
   ]
  },
  {
   "cell_type": "code",
   "execution_count": null,
   "metadata": {},
   "outputs": [],
   "source": [
    "# Carregamento e teste do modelo RF com hiperparâmetros otimizados\n",
    "loaded_model = joblib.load(f'{OUTPUT_FOLDER}/model_{MODEL_ID}_temp_{str(study_rc.best_trial.number)}.joblib')\n",
    "predictions = loaded_model.predict(test_data)  # teste\n",
    "predictions_train = loaded_model.predict(train_data)  # treino"
   ]
  },
  {
   "cell_type": "code",
   "execution_count": null,
   "metadata": {},
   "outputs": [],
   "source": [
    "# Apagando modelos após uso\n",
    "folder_path = os.path.join(os.getcwd(), OUTPUT_FOLDER)\n",
    "for filename in os.listdir(folder_path):\n",
    "    if filename.startswith(f\"model_{MODEL_ID}_temp\"):\n",
    "        filepath = os.path.join(folder_path, filename)\n",
    "        if os.path.isfile(filepath):\n",
    "            os.remove(filepath)"
   ]
  },
  {
   "cell_type": "code",
   "execution_count": null,
   "metadata": {},
   "outputs": [],
   "source": [
    "print('Métricas Modelo - dados teste')\n",
    "print('Mean Absolute Error:', sklearn.metrics.mean_absolute_error(test_output, predictions))\n",
    "print('Mean Squared Error:', sklearn.metrics.mean_squared_error(test_output, predictions))\n",
    "print('Root Mean Squared Error:', np.sqrt(sklearn.metrics.mean_squared_error(test_output, predictions)))\n",
    "print('R^2:', sklearn.metrics.r2_score(test_output, predictions))"
   ]
  },
  {
   "cell_type": "code",
   "execution_count": null,
   "metadata": {},
   "outputs": [],
   "source": [
    "print('Métricas Modelo - dados treino')\n",
    "print('Mean Absolute Error:', sklearn.metrics.mean_absolute_error(train_output, predictions_train))\n",
    "print('Mean Squared Error:', sklearn.metrics.mean_squared_error(train_output, predictions_train))\n",
    "print('Root Mean Squared Error:', np.sqrt(sklearn.metrics.mean_squared_error(train_output, predictions_train)))\n",
    "print('R^2:', sklearn.metrics.r2_score(train_output, predictions_train))"
   ]
  },
  {
   "cell_type": "code",
   "execution_count": null,
   "metadata": {},
   "outputs": [],
   "source": [
    "# Gráfico predição ingles - teste\n",
    "plt.figure()\n",
    "reta = np.random.uniform(low=-8.5, high=5, size=(50,))\n",
    "plt.plot(reta,reta, color='black', label='x = y') #plot reta x = y\n",
    "plt.scatter(test_output, predictions, color='blue', marker='x')\n",
    "plt.legend(fontsize=15, loc='best')\n",
    "plt.xlabel('True Values', fontsize=15)\n",
    "plt.ylabel('Predicted Values', fontsize=15)\n",
    "plt.title('Prediction - RF - Test', fontsize=15)\n",
    "plt.tight_layout()\n",
    "plt.savefig(f'{FIGURES_FOLDER}/model_{MODEL_ID}_testpredictions_eng.png')\n",
    "plt.show()\n",
    "plt.close()"
   ]
  },
  {
   "cell_type": "code",
   "execution_count": null,
   "metadata": {},
   "outputs": [],
   "source": [
    "# Gráfico predição ingles - treinamento\n",
    "plt.figure()\n",
    "reta = np.random.uniform(low=-8.5, high=5, size=(50, ))\n",
    "plt.plot(reta, reta, color='black', label='x = y')  #plot reta x = y\n",
    "plt.scatter(train_output, predictions_train, color='blue', marker='x')\n",
    "plt.legend(fontsize=15, loc='best')\n",
    "plt.xlabel('True Values', fontsize=15)\n",
    "plt.ylabel('Predicted Values', fontsize=15)\n",
    "plt.title('Prediction - RF - Training', fontsize=15)\n",
    "plt.tight_layout()\n",
    "plt.savefig(f'{FIGURES_FOLDER}/model_{MODEL_ID}_trainpredictions_eng.png')\n",
    "plt.show()\n",
    "plt.close()"
   ]
  },
  {
   "cell_type": "code",
   "execution_count": null,
   "metadata": {},
   "outputs": [],
   "source": [
    "# Gráfico Resíduos ingles - teste\n",
    "residue = test_output.ravel() - predictions.ravel()\n",
    "plt.figure()\n",
    "plt.grid(axis='y')\n",
    "plt.hist(x=residue, bins='auto', ec='black')\n",
    "plt.ylabel('Frequency', fontsize=15)\n",
    "plt.xlabel('Residue', fontsize=15)\n",
    "plt.title('Residue - RF - Test', fontsize=15)\n",
    "plt.tight_layout()\n",
    "plt.savefig(f'{FIGURES_FOLDER}/model_{MODEL_ID}_testresidue_eng.png')\n",
    "plt.show()\n",
    "plt.close()"
   ]
  },
  {
   "cell_type": "code",
   "execution_count": null,
   "metadata": {},
   "outputs": [],
   "source": [
    "# Gráfico Resíduos ingles - treinamento\n",
    "residue = train_output.ravel() - predictions_train.ravel()\n",
    "plt.figure()\n",
    "plt.grid(axis='y')\n",
    "plt.hist(x=residue, bins='auto', ec='black')\n",
    "plt.ylabel('Frequency', fontsize=15)\n",
    "plt.xlabel('Residue', fontsize=15)\n",
    "plt.title('Residue - RF - Training', fontsize=15)\n",
    "plt.tight_layout()\n",
    "plt.savefig(f'{FIGURES_FOLDER}/model_{MODEL_ID}_trainresidue_eng.png')\n",
    "plt.show()\n",
    "plt.close()"
   ]
  },
  {
   "cell_type": "code",
   "execution_count": null,
   "metadata": {},
   "outputs": [],
   "source": [
    "# Importância das variáveis\n",
    "header = df_scaled_x.columns\n",
    "\n",
    "importances = list(loaded_model.feature_importances_)\n",
    "feature_importances = [(feature, round(importance, 4)) for feature, importance in zip(header, importances)]\n",
    "feature_importances = sorted(feature_importances, key=lambda x: x[1], reverse=True)\n",
    "[print('Variável: {:20} Importância: {}'.format(*pair)) for pair in feature_importances]\n",
    "\n",
    "# Ajuste do tamanho do header\n",
    "adjusted_header = list(itertools.islice(header, len(importances)))"
   ]
  },
  {
   "cell_type": "code",
   "execution_count": null,
   "metadata": {},
   "outputs": [],
   "source": [
    "# Gráfico importância ingles\n",
    "sns.set(font_scale=1)\n",
    "x_values = list(range(len(importances)))\n",
    "plt.figure()\n",
    "plt.grid(axis='y')\n",
    "plt.bar(x_values, importances, orientation='vertical')\n",
    "plt.xticks(x_values, adjusted_header, rotation='vertical')\n",
    "plt.ylabel('Importance')\n",
    "plt.xlabel('Variable')\n",
    "plt.title('Importances - RF', fontsize=15)\n",
    "plt.tight_layout()\n",
    "plt.savefig(f'{FIGURES_FOLDER}/model_{MODEL_ID}_RF_importance_eng.png')\n",
    "plt.show()\n",
    "plt.close()"
   ]
  },
  {
   "cell_type": "code",
   "execution_count": null,
   "metadata": {},
   "outputs": [],
   "source": []
  }
 ],
 "metadata": {
  "kernelspec": {
   "display_name": ".venv",
   "language": "python",
   "name": "python3"
  },
  "language_info": {
   "codemirror_mode": {
    "name": "ipython",
    "version": 3
   },
   "file_extension": ".py",
   "mimetype": "text/x-python",
   "name": "python",
   "nbconvert_exporter": "python",
   "pygments_lexer": "ipython3",
   "version": "3.12.7"
  }
 },
 "nbformat": 4,
 "nbformat_minor": 2
}
